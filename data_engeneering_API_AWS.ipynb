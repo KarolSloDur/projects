{
 "cells": [
  {
   "cell_type": "markdown",
   "metadata": {},
   "source": []
  },
  {
   "cell_type": "code",
   "execution_count": 29,
   "metadata": {},
   "outputs": [],
   "source": [
    "#country: #mw-content-text > div.mw-parser-output > table.infobox.ib-settlement.vcard > tbody > tr:nth-child(8) > td > a\n",
    "#city: #mw-content-text > div.mw-parser-output > table.infobox.ib-settlement.vcard > tbody > tr:nth-child(1) > th > div > span\n",
    "#latitude: #coordinates > span > span > a > span.geo-default > span > span.latitude\n",
    "#longitude: #coordinates > span > span > a > span.geo-default > span > span.longitude\n",
    "#population: #mw-content-text > div.mw-parser-output > table.infobox.ib-settlement.vcard > tbody > tr:nth-child(16) > td"
   ]
  },
  {
   "cell_type": "code",
   "execution_count": 30,
   "metadata": {},
   "outputs": [],
   "source": [
    "from bs4 import BeautifulSoup\n",
    "import requests\n",
    "import pandas as pd\n",
    "import re\n",
    "def base(cities):\n",
    "    country = []\n",
    "    city=[]\n",
    "    latitude=[]\n",
    "    longitude=[]\n",
    "    population=[]\n",
    "\n",
    "    for citu in cities:\n",
    "        allurl = f'https://en.wikipedia.org/wiki/{citu}'\n",
    "\n",
    "        headers = {'Accept-Language': 'en-US,en;q=0.8'}\n",
    "        response_all = requests.get(allurl, headers = headers)\n",
    "        response_all.status_code\n",
    "    \n",
    "        soup_all = BeautifulSoup(response_all.content, \"html.parser\")\n",
    "    \n",
    "        country.append(soup_all.select('tr:nth-child(8) td a')[0].get_text())\n",
    "        city.append(soup_all.select('tr:nth-child(1) th div span')[0].get_text())\n",
    "        latitude.append(soup_all.select('span.latitude')[0].get_text())\n",
    "        longitude.append(soup_all.select('span.longitude')[0].get_text())\n",
    "        population.append(soup_all.select('tr:nth-child(16) td')[0].get_text())\n",
    "    citiedGermany_df = pd.DataFrame({'country':country, 'city':city, 'population':population, 'latitude' : latitude, 'longitude': longitude})\n",
    "    citiedGermany_df['latitude'] = citiedGermany_df['latitude'].str.split('″').str[0].str.replace('°', '.', regex=False).str.replace('′', '', regex=False)\n",
    "    citiedGermany_df['longitude'] = citiedGermany_df['longitude'].str.split('″').str[0].str.replace('°', '.', regex=False).str.replace('′', '', regex=False)\n",
    "    citiedGermany_df['latitude'] = citiedGermany_df['latitude'].str.replace('N', '', regex=False)\n",
    "    citiedGermany_df['longitude'] = citiedGermany_df['longitude'].str.replace('E', '', regex=False)\n",
    "    return(citiedGermany_df)"
   ]
  },
  {
   "cell_type": "code",
   "execution_count": 31,
   "metadata": {},
   "outputs": [],
   "source": [
    "three_cities =base(['Leipzig', 'Dresden', 'Hamburg'])\n",
    "three_cities['population']=three_cities['population'].str.replace(',','',regex=False)"
   ]
  },
  {
   "cell_type": "code",
   "execution_count": 32,
   "metadata": {},
   "outputs": [],
   "source": [
    "three_cities.loc[three_cities['city']=='Hamborg','city'] = 'Hamburg'"
   ]
  },
  {
   "cell_type": "code",
   "execution_count": null,
   "metadata": {},
   "outputs": [],
   "source": [
    "\n",
    "three_cities.drop(columns=['level_0', 'index'], inplace=True)"
   ]
  },
  {
   "cell_type": "code",
   "execution_count": null,
   "metadata": {},
   "outputs": [
    {
     "data": {
      "text/html": [
       "<div>\n",
       "<style scoped>\n",
       "    .dataframe tbody tr th:only-of-type {\n",
       "        vertical-align: middle;\n",
       "    }\n",
       "\n",
       "    .dataframe tbody tr th {\n",
       "        vertical-align: top;\n",
       "    }\n",
       "\n",
       "    .dataframe thead th {\n",
       "        text-align: right;\n",
       "    }\n",
       "</style>\n",
       "<table border=\"1\" class=\"dataframe\">\n",
       "  <thead>\n",
       "    <tr style=\"text-align: right;\">\n",
       "      <th></th>\n",
       "      <th>country</th>\n",
       "      <th>city</th>\n",
       "      <th>population</th>\n",
       "      <th>latitude</th>\n",
       "      <th>longitude</th>\n",
       "    </tr>\n",
       "  </thead>\n",
       "  <tbody>\n",
       "    <tr>\n",
       "      <th>0</th>\n",
       "      <td>Germany</td>\n",
       "      <td>Leipzig</td>\n",
       "      <td>601866</td>\n",
       "      <td>51.2024</td>\n",
       "      <td>12.2230</td>\n",
       "    </tr>\n",
       "    <tr>\n",
       "      <th>1</th>\n",
       "      <td>Germany</td>\n",
       "      <td>Dresden</td>\n",
       "      <td>276522</td>\n",
       "      <td>51.0300</td>\n",
       "      <td>13.4424</td>\n",
       "    </tr>\n",
       "    <tr>\n",
       "      <th>2</th>\n",
       "      <td>Germany</td>\n",
       "      <td>Hamburg</td>\n",
       "      <td>1579884</td>\n",
       "      <td>53.33</td>\n",
       "      <td>10.00</td>\n",
       "    </tr>\n",
       "  </tbody>\n",
       "</table>\n",
       "</div>"
      ],
      "text/plain": [
       "   country       city population latitude longitude\n",
       "0  Germany  Leipzig       601866  51.2024   12.2230\n",
       "1  Germany   Dresden      276522  51.0300   13.4424\n",
       "2  Germany    Hamburg    1579884    53.33     10.00"
      ]
     },
     "execution_count": 4,
     "metadata": {},
     "output_type": "execute_result"
    }
   ],
   "source": [
    "three_cities"
   ]
  },
  {
   "cell_type": "code",
   "execution_count": null,
   "metadata": {},
   "outputs": [],
   "source": [
    "import my_API_key"
   ]
  },
  {
   "cell_type": "code",
   "execution_count": null,
   "metadata": {},
   "outputs": [],
   "source": [
    "\n",
    "cities = list(three_cities['city'])\n",
    "lat=list(three_cities['latitude'])\n",
    "lon=list(three_cities['longitude'])\n",
    "API_key = my_API_key.API_key\n"
   ]
  },
  {
   "cell_type": "code",
   "execution_count": null,
   "metadata": {},
   "outputs": [],
   "source": [
    "def wheater_in_city(city):\n",
    "    cities_wheather = []\n",
    "    tempe=[]\n",
    "    descre = []\n",
    "    humiditye = []\n",
    "    winde= []\n",
    "    datee = []\n",
    "    citye=[]\n",
    "    API_key = my_API_key.API_key\n",
    "    for i in range(len(city)):\n",
    "        cities_wheather.append(requests.get(f\"http://api.openweathermap.org/data/2.5/forecast?q={city[i]}&appid={API_key}&units=metric\").json())\n",
    "    \n",
    "        for u in range(len(cities_wheather)):\n",
    "            for o in range(0,11):\n",
    "                tempe.append(cities_wheather[u]['list'][o]['main']['temp'])\n",
    "                humiditye.append(cities_wheather[u]['list'][o]['main']['humidity'])\n",
    "                descre.append(cities_wheather[u]['list'][o]['weather'][0]['description'])\n",
    "                winde.append(cities_wheather[u]['list'][o]['wind']['speed'])\n",
    "                datee.append(cities_wheather[u]['list'][o]['dt_txt'])\n",
    "                citye.append(cities_wheather[u]['city']['name'])\n",
    "    wheater_df = pd.DataFrame({'city':citye, 'temp': tempe, 'descr': descre, 'humidity':humiditye, 'wind_speed':winde, 'date':datee })\n",
    "    return wheater_df"
   ]
  },
  {
   "cell_type": "code",
   "execution_count": null,
   "metadata": {},
   "outputs": [],
   "source": [
    "wheater_df=wheater_in_city(['Hamburg', 'Leipzig' , 'Dresden'])"
   ]
  },
  {
   "cell_type": "code",
   "execution_count": null,
   "metadata": {},
   "outputs": [
    {
     "data": {
      "text/html": [
       "<div>\n",
       "<style scoped>\n",
       "    .dataframe tbody tr th:only-of-type {\n",
       "        vertical-align: middle;\n",
       "    }\n",
       "\n",
       "    .dataframe tbody tr th {\n",
       "        vertical-align: top;\n",
       "    }\n",
       "\n",
       "    .dataframe thead th {\n",
       "        text-align: right;\n",
       "    }\n",
       "</style>\n",
       "<table border=\"1\" class=\"dataframe\">\n",
       "  <thead>\n",
       "    <tr style=\"text-align: right;\">\n",
       "      <th></th>\n",
       "      <th>city</th>\n",
       "      <th>temp</th>\n",
       "      <th>descr</th>\n",
       "      <th>humidity</th>\n",
       "      <th>wind_speed</th>\n",
       "      <th>date</th>\n",
       "    </tr>\n",
       "  </thead>\n",
       "  <tbody>\n",
       "    <tr>\n",
       "      <th>0</th>\n",
       "      <td>Hamburg</td>\n",
       "      <td>6.99</td>\n",
       "      <td>light rain</td>\n",
       "      <td>91</td>\n",
       "      <td>6.78</td>\n",
       "      <td>2023-04-11 09:00:00</td>\n",
       "    </tr>\n",
       "    <tr>\n",
       "      <th>1</th>\n",
       "      <td>Hamburg</td>\n",
       "      <td>7.10</td>\n",
       "      <td>light rain</td>\n",
       "      <td>90</td>\n",
       "      <td>6.18</td>\n",
       "      <td>2023-04-11 12:00:00</td>\n",
       "    </tr>\n",
       "    <tr>\n",
       "      <th>2</th>\n",
       "      <td>Hamburg</td>\n",
       "      <td>7.60</td>\n",
       "      <td>light rain</td>\n",
       "      <td>86</td>\n",
       "      <td>5.58</td>\n",
       "      <td>2023-04-11 15:00:00</td>\n",
       "    </tr>\n",
       "    <tr>\n",
       "      <th>3</th>\n",
       "      <td>Hamburg</td>\n",
       "      <td>6.04</td>\n",
       "      <td>light rain</td>\n",
       "      <td>88</td>\n",
       "      <td>3.33</td>\n",
       "      <td>2023-04-11 18:00:00</td>\n",
       "    </tr>\n",
       "    <tr>\n",
       "      <th>4</th>\n",
       "      <td>Hamburg</td>\n",
       "      <td>3.76</td>\n",
       "      <td>few clouds</td>\n",
       "      <td>95</td>\n",
       "      <td>2.24</td>\n",
       "      <td>2023-04-11 21:00:00</td>\n",
       "    </tr>\n",
       "    <tr>\n",
       "      <th>...</th>\n",
       "      <td>...</td>\n",
       "      <td>...</td>\n",
       "      <td>...</td>\n",
       "      <td>...</td>\n",
       "      <td>...</td>\n",
       "      <td>...</td>\n",
       "    </tr>\n",
       "    <tr>\n",
       "      <th>61</th>\n",
       "      <td>Dresden</td>\n",
       "      <td>3.16</td>\n",
       "      <td>clear sky</td>\n",
       "      <td>79</td>\n",
       "      <td>1.97</td>\n",
       "      <td>2023-04-12 03:00:00</td>\n",
       "    </tr>\n",
       "    <tr>\n",
       "      <th>62</th>\n",
       "      <td>Dresden</td>\n",
       "      <td>5.49</td>\n",
       "      <td>few clouds</td>\n",
       "      <td>72</td>\n",
       "      <td>2.38</td>\n",
       "      <td>2023-04-12 06:00:00</td>\n",
       "    </tr>\n",
       "    <tr>\n",
       "      <th>63</th>\n",
       "      <td>Dresden</td>\n",
       "      <td>11.12</td>\n",
       "      <td>overcast clouds</td>\n",
       "      <td>52</td>\n",
       "      <td>4.66</td>\n",
       "      <td>2023-04-12 09:00:00</td>\n",
       "    </tr>\n",
       "    <tr>\n",
       "      <th>64</th>\n",
       "      <td>Dresden</td>\n",
       "      <td>12.10</td>\n",
       "      <td>overcast clouds</td>\n",
       "      <td>55</td>\n",
       "      <td>6.00</td>\n",
       "      <td>2023-04-12 12:00:00</td>\n",
       "    </tr>\n",
       "    <tr>\n",
       "      <th>65</th>\n",
       "      <td>Dresden</td>\n",
       "      <td>10.09</td>\n",
       "      <td>overcast clouds</td>\n",
       "      <td>74</td>\n",
       "      <td>6.23</td>\n",
       "      <td>2023-04-12 15:00:00</td>\n",
       "    </tr>\n",
       "  </tbody>\n",
       "</table>\n",
       "<p>66 rows × 6 columns</p>\n",
       "</div>"
      ],
      "text/plain": [
       "       city   temp            descr  humidity  wind_speed                 date\n",
       "0   Hamburg   6.99       light rain        91        6.78  2023-04-11 09:00:00\n",
       "1   Hamburg   7.10       light rain        90        6.18  2023-04-11 12:00:00\n",
       "2   Hamburg   7.60       light rain        86        5.58  2023-04-11 15:00:00\n",
       "3   Hamburg   6.04       light rain        88        3.33  2023-04-11 18:00:00\n",
       "4   Hamburg   3.76       few clouds        95        2.24  2023-04-11 21:00:00\n",
       "..      ...    ...              ...       ...         ...                  ...\n",
       "61  Dresden   3.16        clear sky        79        1.97  2023-04-12 03:00:00\n",
       "62  Dresden   5.49       few clouds        72        2.38  2023-04-12 06:00:00\n",
       "63  Dresden  11.12  overcast clouds        52        4.66  2023-04-12 09:00:00\n",
       "64  Dresden  12.10  overcast clouds        55        6.00  2023-04-12 12:00:00\n",
       "65  Dresden  10.09  overcast clouds        74        6.23  2023-04-12 15:00:00\n",
       "\n",
       "[66 rows x 6 columns]"
      ]
     },
     "execution_count": 10,
     "metadata": {},
     "output_type": "execute_result"
    }
   ],
   "source": [
    "wheater_df"
   ]
  },
  {
   "cell_type": "code",
   "execution_count": null,
   "metadata": {},
   "outputs": [],
   "source": [
    "cit = ['Hamburg', 'Leipzig' , 'Dresden']\n",
    "latit = [53.33,51.2024,51.0300]\n",
    "longit=[10.0,12.2230,13.4424]\n"
   ]
  },
  {
   "cell_type": "code",
   "execution_count": null,
   "metadata": {},
   "outputs": [],
   "source": [
    "import my_API_key_arrivals"
   ]
  },
  {
   "cell_type": "code",
   "execution_count": null,
   "metadata": {},
   "outputs": [
    {
     "name": "stdout",
     "output_type": "stream",
     "text": [
      "{\"searchBy\":{\"lat\":50.59,\"lon\":11.2},\"items\":[{\"icao\":\"EDDE\",\"iata\":\"ERF\",\"name\":\"Erfurt\",\"shortName\":\"Erfurt\",\"municipalityName\":\"Erfurt\",\"location\":{\"lat\":50.9798,\"lon\":10.9581},\"countryCode\":\"DE\"}]}\n"
     ]
    }
   ],
   "source": [
    "import requests\n",
    "\n",
    "url = \"https://aerodatabox.p.rapidapi.com/airports/search/location\"\n",
    "\n",
    "querystring = {\"lat\":\"50.59\",\"lon\":\"11.2\",\"radiusKm\":\"50\",\"limit\":\"10\",\"withFlightInfoOnly\":\"true\"}\n",
    "\n",
    "headers = {\n",
    "\t\"X-RapidAPI-Key\": my_API_key_arrivals.API_key_arriv,\n",
    "\t\"X-RapidAPI-Host\": \"aerodatabox.p.rapidapi.com\"\n",
    "}\n",
    "\n",
    "response = requests.request(\"GET\", url, headers=headers, params=querystring)\n",
    "\n",
    "print(response.text)"
   ]
  },
  {
   "cell_type": "code",
   "execution_count": null,
   "metadata": {},
   "outputs": [],
   "source": [
    "response.json()"
   ]
  },
  {
   "cell_type": "code",
   "execution_count": null,
   "metadata": {},
   "outputs": [],
   "source": [
    "\n",
    "def arrrrrival(icao):\n",
    "    arriv_icao= []\n",
    "    arriv_time = []\n",
    "    icao = ['EDDP','EDDC', 'EDDH']\n",
    "    dates = [['00:00','11:59'],['12:00','23:59']]   \n",
    "    arriv_number = []\n",
    "    for i in range(len(icao)):\n",
    "        for u in range(len(dates)):\n",
    "            url = f\"https://aerodatabox.p.rapidapi.com/flights/airports/icao/{icao[i]}/2023-03-30T{dates[u][0]}/2023-03-30T{dates[u][1]}\"\n",
    "\n",
    "            querystring = {\"withLeg\":\"false\",\"direction\":\"Both\",\"withCancelled\":\"false\",\"withCodeshared\":\"false\",\"withCargo\":\"false\",\"withPrivate\":\"false\",\"withLocation\":\"false\"}\n",
    "\n",
    "            headers = {\n",
    "            \"X-RapidAPI-Key\": my_API_key_arrivals.API_key_arriv,\n",
    "            \"X-RapidAPI-Host\": \"aerodatabox.p.rapidapi.com\"\n",
    "            }\n",
    "\n",
    "            response = requests.request(\"GET\", url, headers=headers, params=querystring)\n",
    "\n",
    "            print(response.text)\n",
    "            arrivals = response.json()['arrivals']\n",
    "        \n",
    "            for m in range(len(arrivals)):\n",
    "                arriv_time.append(arrivals[m]['movement']['scheduledTimeLocal'])\n",
    "                arriv_icao.append(icao[i])\n",
    "                arriv_number.append(arrivals[m]['number'])\n",
    "    arriv_df = pd.DataFrame({'time':arriv_time, 'flight_number':arriv_number, 'icao':arriv_icao})\n",
    "\n",
    "    return(arriv_df)"
   ]
  },
  {
   "cell_type": "code",
   "execution_count": null,
   "metadata": {},
   "outputs": [],
   "source": [
    "L_D_H = arrrrrival(['EDDP','EDDC', 'EDDH'])"
   ]
  },
  {
   "cell_type": "code",
   "execution_count": null,
   "metadata": {},
   "outputs": [],
   "source": [
    "L_D_H"
   ]
  },
  {
   "cell_type": "code",
   "execution_count": null,
   "metadata": {},
   "outputs": [],
   "source": [
    "icao = ['EDDP','EDDC', 'EDDH']\n",
    "dates = [['00:00','11:59'],['12:00','23:59']]\n",
    "arriv_icao= []\n",
    "arriv_number = []\n",
    "arriv_time = []\n",
    "for i in range(len(icao)):\n",
    "    for u in range(len(dates)):\n",
    "        url = f\"https://aerodatabox.p.rapidapi.com/flights/airports/icao/{icao[i]}/2023-03-30T{dates[u][0]}/2023-03-30T{dates[u][1]}\"\n",
    "\n",
    "        querystring = {\"withLeg\":\"false\",\"direction\":\"Both\",\"withCancelled\":\"false\",\"withCodeshared\":\"false\",\"withCargo\":\"false\",\"withPrivate\":\"false\",\"withLocation\":\"false\"}\n",
    "\n",
    "        headers = {\n",
    "        \"X-RapidAPI-Key\": my_API_key_arrivals.API_key_arriv,\n",
    "        \"X-RapidAPI-Host\": \"aerodatabox.p.rapidapi.com\"\n",
    "        }\n",
    "\n",
    "        response = requests.request(\"GET\", url, headers=headers, params=querystring)\n",
    "\n",
    "        print(response.text)\n",
    "        arrivals = response.json()['arrivals']\n",
    "    \n",
    "        for m in range(len(arrivals)):\n",
    "            arriv_time.append(arrivals[m]['movement']['scheduledTimeLocal'])\n",
    "            arriv_icao.append(icao[i])\n",
    "            arriv_number.append(arrivals[m]['number'])\n",
    "arriv_df = pd.DataFrame({'time':arriv_time, 'flight_number':arriv_number, 'icao':arriv_icao})\n"
   ]
  },
  {
   "cell_type": "code",
   "execution_count": null,
   "metadata": {},
   "outputs": [
    {
     "data": {
      "text/plain": [
       "'EDDP'"
      ]
     },
     "execution_count": 19,
     "metadata": {},
     "output_type": "execute_result"
    }
   ],
   "source": [
    "icao[0]"
   ]
  },
  {
   "cell_type": "code",
   "execution_count": null,
   "metadata": {},
   "outputs": [],
   "source": [
    "arrivals = response.json()"
   ]
  },
  {
   "cell_type": "code",
   "execution_count": null,
   "metadata": {},
   "outputs": [
    {
     "data": {
      "text/plain": [
       "'departures'"
      ]
     },
     "execution_count": 22,
     "metadata": {},
     "output_type": "execute_result"
    }
   ],
   "source": [
    "arrivals=list(arrivals)\n",
    "arrivals[0]\n"
   ]
  },
  {
   "cell_type": "code",
   "execution_count": null,
   "metadata": {},
   "outputs": [],
   "source": [
    "L_D_H['date']=L_D_H['time'].str.split('+', expand=True )[0]\n"
   ]
  },
  {
   "cell_type": "code",
   "execution_count": null,
   "metadata": {},
   "outputs": [],
   "source": [
    "L_D_H.drop(columns='time', inplace=True)"
   ]
  },
  {
   "cell_type": "code",
   "execution_count": null,
   "metadata": {},
   "outputs": [],
   "source": [
    "pd.set_option('display.max_rows', 1000)\n",
    "import sqlalchemy"
   ]
  },
  {
   "cell_type": "code",
   "execution_count": null,
   "metadata": {},
   "outputs": [
    {
     "name": "stdout",
     "output_type": "stream",
     "text": [
      "Requirement already satisfied: PyMySQL in c:\\users\\piotr\\anaconda30\\lib\\site-packages (1.0.3)\n",
      "Note: you may need to restart the kernel to use updated packages.\n"
     ]
    }
   ],
   "source": [
    "pip install PyMySQL"
   ]
  },
  {
   "cell_type": "code",
   "execution_count": null,
   "metadata": {},
   "outputs": [],
   "source": [
    "import my_passwSQL"
   ]
  },
  {
   "cell_type": "code",
   "execution_count": null,
   "metadata": {},
   "outputs": [],
   "source": [
    "schema=\"test_1\"   # name of the database you want to use here\n",
    "host=\"wbs-project3-db.cion5whcvngn.us-east-1.rds.amazonaws.com\"        # to connect to your local server\n",
    "user=\"admin\"\n",
    "password= my_passwSQL.passw \n",
    "port=3306\n",
    "con = f'mysql+pymysql://{user}:{password}@{host}:{port}/{schema}'"
   ]
  },
  {
   "cell_type": "code",
   "execution_count": 34,
   "metadata": {},
   "outputs": [],
   "source": [
    "schema=\"gans\"   # name of the database you want to use here\n",
    "host=\"127.0.0.1\"        # to connect to your local server\n",
    "user=\"root\"\n",
    "password=my_passwSQL.passw \n",
    "port=3306\n",
    "connection_details = f'mysql+pymysql://{user}:{password}@{host}:{port}/{schema}'"
   ]
  },
  {
   "cell_type": "code",
   "execution_count": 35,
   "metadata": {},
   "outputs": [
    {
     "data": {
      "text/plain": [
       "3"
      ]
     },
     "execution_count": 35,
     "metadata": {},
     "output_type": "execute_result"
    }
   ],
   "source": [
    "three_cities.to_sql('city',\n",
    "                    if_exists='append',\n",
    "                    con=connection_details,\n",
    "                    index=False\n",
    "                    )"
   ]
  },
  {
   "cell_type": "code",
   "execution_count": 36,
   "metadata": {},
   "outputs": [],
   "source": [
    "three_cities_df = pd.read_sql('city',con=connection_details)"
   ]
  },
  {
   "cell_type": "code",
   "execution_count": 37,
   "metadata": {},
   "outputs": [
    {
     "data": {
      "text/html": [
       "<div>\n",
       "<style scoped>\n",
       "    .dataframe tbody tr th:only-of-type {\n",
       "        vertical-align: middle;\n",
       "    }\n",
       "\n",
       "    .dataframe tbody tr th {\n",
       "        vertical-align: top;\n",
       "    }\n",
       "\n",
       "    .dataframe thead th {\n",
       "        text-align: right;\n",
       "    }\n",
       "</style>\n",
       "<table border=\"1\" class=\"dataframe\">\n",
       "  <thead>\n",
       "    <tr style=\"text-align: right;\">\n",
       "      <th></th>\n",
       "      <th>city_id</th>\n",
       "      <th>city</th>\n",
       "      <th>country</th>\n",
       "      <th>population</th>\n",
       "      <th>latitude</th>\n",
       "      <th>longitude</th>\n",
       "    </tr>\n",
       "  </thead>\n",
       "  <tbody>\n",
       "    <tr>\n",
       "      <th>0</th>\n",
       "      <td>1</td>\n",
       "      <td>Leipzig</td>\n",
       "      <td>Germany</td>\n",
       "      <td>601866</td>\n",
       "      <td>51.2024</td>\n",
       "      <td>12.2230</td>\n",
       "    </tr>\n",
       "    <tr>\n",
       "      <th>1</th>\n",
       "      <td>2</td>\n",
       "      <td>Dresden</td>\n",
       "      <td>Germany</td>\n",
       "      <td>276522</td>\n",
       "      <td>51.0300</td>\n",
       "      <td>13.4424</td>\n",
       "    </tr>\n",
       "    <tr>\n",
       "      <th>2</th>\n",
       "      <td>3</td>\n",
       "      <td>Hamburg</td>\n",
       "      <td>Germany</td>\n",
       "      <td>1579884</td>\n",
       "      <td>53.33</td>\n",
       "      <td>10.00</td>\n",
       "    </tr>\n",
       "    <tr>\n",
       "      <th>3</th>\n",
       "      <td>4</td>\n",
       "      <td>Leipzig</td>\n",
       "      <td>Germany</td>\n",
       "      <td>601866</td>\n",
       "      <td>51.2024</td>\n",
       "      <td>12.2230</td>\n",
       "    </tr>\n",
       "    <tr>\n",
       "      <th>4</th>\n",
       "      <td>5</td>\n",
       "      <td>Dresden</td>\n",
       "      <td>Germany</td>\n",
       "      <td>276522</td>\n",
       "      <td>51.0300</td>\n",
       "      <td>13.4424</td>\n",
       "    </tr>\n",
       "    <tr>\n",
       "      <th>5</th>\n",
       "      <td>6</td>\n",
       "      <td>Hamburg</td>\n",
       "      <td>Germany</td>\n",
       "      <td>1579884</td>\n",
       "      <td>53.33</td>\n",
       "      <td>10.00</td>\n",
       "    </tr>\n",
       "    <tr>\n",
       "      <th>6</th>\n",
       "      <td>7</td>\n",
       "      <td>Leipzig</td>\n",
       "      <td>Germany</td>\n",
       "      <td>601866</td>\n",
       "      <td>51.2024</td>\n",
       "      <td>12.2230</td>\n",
       "    </tr>\n",
       "    <tr>\n",
       "      <th>7</th>\n",
       "      <td>8</td>\n",
       "      <td>Dresden</td>\n",
       "      <td>Germany</td>\n",
       "      <td>276522</td>\n",
       "      <td>51.0300</td>\n",
       "      <td>13.4424</td>\n",
       "    </tr>\n",
       "    <tr>\n",
       "      <th>8</th>\n",
       "      <td>9</td>\n",
       "      <td>Hamburg</td>\n",
       "      <td>Germany</td>\n",
       "      <td>1579884</td>\n",
       "      <td>53.33</td>\n",
       "      <td>10.00</td>\n",
       "    </tr>\n",
       "  </tbody>\n",
       "</table>\n",
       "</div>"
      ],
      "text/plain": [
       "   city_id       city  country population latitude longitude\n",
       "0        1  Leipzig    Germany     601866  51.2024   12.2230\n",
       "1        2   Dresden   Germany     276522  51.0300   13.4424\n",
       "2        3    Hamburg  Germany    1579884    53.33     10.00\n",
       "3        4  Leipzig    Germany     601866  51.2024   12.2230\n",
       "4        5   Dresden   Germany     276522  51.0300   13.4424\n",
       "5        6    Hamburg  Germany    1579884    53.33     10.00\n",
       "6        7  Leipzig    Germany     601866  51.2024   12.2230\n",
       "7        8   Dresden   Germany     276522  51.0300   13.4424\n",
       "8        9    Hamburg  Germany    1579884    53.33     10.00"
      ]
     },
     "execution_count": 37,
     "metadata": {},
     "output_type": "execute_result"
    }
   ],
   "source": [
    "three_cities_df"
   ]
  },
  {
   "cell_type": "code",
   "execution_count": null,
   "metadata": {},
   "outputs": [],
   "source": [
    "wheater_df.to_sql('wheather',\n",
    "                  if_exists='append',\n",
    "                  con=connection_details,\n",
    "                  index=False)\n"
   ]
  },
  {
   "cell_type": "code",
   "execution_count": 39,
   "metadata": {},
   "outputs": [],
   "source": [
    "wheather_from_sql = pd.read_sql('wheather', con= connection_details)"
   ]
  },
  {
   "cell_type": "code",
   "execution_count": 40,
   "metadata": {},
   "outputs": [],
   "source": [
    "import my_passwSQL"
   ]
  },
  {
   "cell_type": "code",
   "execution_count": 41,
   "metadata": {},
   "outputs": [
    {
     "data": {
      "text/html": [
       "<div>\n",
       "<style scoped>\n",
       "    .dataframe tbody tr th:only-of-type {\n",
       "        vertical-align: middle;\n",
       "    }\n",
       "\n",
       "    .dataframe tbody tr th {\n",
       "        vertical-align: top;\n",
       "    }\n",
       "\n",
       "    .dataframe thead th {\n",
       "        text-align: right;\n",
       "    }\n",
       "</style>\n",
       "<table border=\"1\" class=\"dataframe\">\n",
       "  <thead>\n",
       "    <tr style=\"text-align: right;\">\n",
       "      <th></th>\n",
       "      <th>wheather_id</th>\n",
       "      <th>city_id</th>\n",
       "      <th>temp</th>\n",
       "      <th>descr</th>\n",
       "      <th>humidity</th>\n",
       "      <th>wind_speed</th>\n",
       "      <th>date</th>\n",
       "    </tr>\n",
       "  </thead>\n",
       "  <tbody>\n",
       "    <tr>\n",
       "      <th>0</th>\n",
       "      <td>1</td>\n",
       "      <td>1</td>\n",
       "      <td>15.54</td>\n",
       "      <td>light rain</td>\n",
       "      <td>65</td>\n",
       "      <td>8.93</td>\n",
       "      <td>2023-03-30 12:00:00</td>\n",
       "    </tr>\n",
       "    <tr>\n",
       "      <th>1</th>\n",
       "      <td>2</td>\n",
       "      <td>1</td>\n",
       "      <td>15.28</td>\n",
       "      <td>light rain</td>\n",
       "      <td>67</td>\n",
       "      <td>8.00</td>\n",
       "      <td>2023-03-30 15:00:00</td>\n",
       "    </tr>\n",
       "    <tr>\n",
       "      <th>2</th>\n",
       "      <td>3</td>\n",
       "      <td>1</td>\n",
       "      <td>12.37</td>\n",
       "      <td>light rain</td>\n",
       "      <td>75</td>\n",
       "      <td>5.87</td>\n",
       "      <td>2023-03-30 18:00:00</td>\n",
       "    </tr>\n",
       "    <tr>\n",
       "      <th>3</th>\n",
       "      <td>4</td>\n",
       "      <td>1</td>\n",
       "      <td>9.52</td>\n",
       "      <td>light rain</td>\n",
       "      <td>84</td>\n",
       "      <td>6.00</td>\n",
       "      <td>2023-03-30 21:00:00</td>\n",
       "    </tr>\n",
       "    <tr>\n",
       "      <th>4</th>\n",
       "      <td>5</td>\n",
       "      <td>1</td>\n",
       "      <td>8.59</td>\n",
       "      <td>scattered clouds</td>\n",
       "      <td>88</td>\n",
       "      <td>5.86</td>\n",
       "      <td>2023-03-31 00:00:00</td>\n",
       "    </tr>\n",
       "  </tbody>\n",
       "</table>\n",
       "</div>"
      ],
      "text/plain": [
       "   wheather_id  city_id   temp             descr  humidity  wind_speed  \\\n",
       "0            1        1  15.54        light rain        65        8.93   \n",
       "1            2        1  15.28        light rain        67        8.00   \n",
       "2            3        1  12.37        light rain        75        5.87   \n",
       "3            4        1   9.52        light rain        84        6.00   \n",
       "4            5        1   8.59  scattered clouds        88        5.86   \n",
       "\n",
       "                 date  \n",
       "0 2023-03-30 12:00:00  \n",
       "1 2023-03-30 15:00:00  \n",
       "2 2023-03-30 18:00:00  \n",
       "3 2023-03-30 21:00:00  \n",
       "4 2023-03-31 00:00:00  "
      ]
     },
     "execution_count": 41,
     "metadata": {},
     "output_type": "execute_result"
    }
   ],
   "source": [
    "wheather_from_sql.head()"
   ]
  },
  {
   "cell_type": "code",
   "execution_count": 42,
   "metadata": {},
   "outputs": [],
   "source": [
    "three_cities_df.drop(axis=0, labels=range(3,6), inplace=True)"
   ]
  },
  {
   "cell_type": "code",
   "execution_count": 43,
   "metadata": {},
   "outputs": [
    {
     "data": {
      "text/html": [
       "<div>\n",
       "<style scoped>\n",
       "    .dataframe tbody tr th:only-of-type {\n",
       "        vertical-align: middle;\n",
       "    }\n",
       "\n",
       "    .dataframe tbody tr th {\n",
       "        vertical-align: top;\n",
       "    }\n",
       "\n",
       "    .dataframe thead th {\n",
       "        text-align: right;\n",
       "    }\n",
       "</style>\n",
       "<table border=\"1\" class=\"dataframe\">\n",
       "  <thead>\n",
       "    <tr style=\"text-align: right;\">\n",
       "      <th></th>\n",
       "      <th>city_id</th>\n",
       "      <th>city</th>\n",
       "      <th>country</th>\n",
       "      <th>population</th>\n",
       "      <th>latitude</th>\n",
       "      <th>longitude</th>\n",
       "    </tr>\n",
       "  </thead>\n",
       "  <tbody>\n",
       "    <tr>\n",
       "      <th>0</th>\n",
       "      <td>1</td>\n",
       "      <td>Leipzig</td>\n",
       "      <td>Germany</td>\n",
       "      <td>601866</td>\n",
       "      <td>51.2024</td>\n",
       "      <td>12.2230</td>\n",
       "    </tr>\n",
       "    <tr>\n",
       "      <th>1</th>\n",
       "      <td>2</td>\n",
       "      <td>Dresden</td>\n",
       "      <td>Germany</td>\n",
       "      <td>276522</td>\n",
       "      <td>51.0300</td>\n",
       "      <td>13.4424</td>\n",
       "    </tr>\n",
       "    <tr>\n",
       "      <th>2</th>\n",
       "      <td>3</td>\n",
       "      <td>Hamburg</td>\n",
       "      <td>Germany</td>\n",
       "      <td>1579884</td>\n",
       "      <td>53.33</td>\n",
       "      <td>10.00</td>\n",
       "    </tr>\n",
       "    <tr>\n",
       "      <th>6</th>\n",
       "      <td>7</td>\n",
       "      <td>Leipzig</td>\n",
       "      <td>Germany</td>\n",
       "      <td>601866</td>\n",
       "      <td>51.2024</td>\n",
       "      <td>12.2230</td>\n",
       "    </tr>\n",
       "    <tr>\n",
       "      <th>7</th>\n",
       "      <td>8</td>\n",
       "      <td>Dresden</td>\n",
       "      <td>Germany</td>\n",
       "      <td>276522</td>\n",
       "      <td>51.0300</td>\n",
       "      <td>13.4424</td>\n",
       "    </tr>\n",
       "    <tr>\n",
       "      <th>8</th>\n",
       "      <td>9</td>\n",
       "      <td>Hamburg</td>\n",
       "      <td>Germany</td>\n",
       "      <td>1579884</td>\n",
       "      <td>53.33</td>\n",
       "      <td>10.00</td>\n",
       "    </tr>\n",
       "  </tbody>\n",
       "</table>\n",
       "</div>"
      ],
      "text/plain": [
       "   city_id       city  country population latitude longitude\n",
       "0        1  Leipzig    Germany     601866  51.2024   12.2230\n",
       "1        2   Dresden   Germany     276522  51.0300   13.4424\n",
       "2        3    Hamburg  Germany    1579884    53.33     10.00\n",
       "6        7  Leipzig    Germany     601866  51.2024   12.2230\n",
       "7        8   Dresden   Germany     276522  51.0300   13.4424\n",
       "8        9    Hamburg  Germany    1579884    53.33     10.00"
      ]
     },
     "execution_count": 43,
     "metadata": {},
     "output_type": "execute_result"
    }
   ],
   "source": [
    "three_cities_df"
   ]
  },
  {
   "cell_type": "code",
   "execution_count": 44,
   "metadata": {},
   "outputs": [
    {
     "data": {
      "text/html": [
       "<div>\n",
       "<style scoped>\n",
       "    .dataframe tbody tr th:only-of-type {\n",
       "        vertical-align: middle;\n",
       "    }\n",
       "\n",
       "    .dataframe tbody tr th {\n",
       "        vertical-align: top;\n",
       "    }\n",
       "\n",
       "    .dataframe thead th {\n",
       "        text-align: right;\n",
       "    }\n",
       "</style>\n",
       "<table border=\"1\" class=\"dataframe\">\n",
       "  <thead>\n",
       "    <tr style=\"text-align: right;\">\n",
       "      <th></th>\n",
       "      <th>city_id</th>\n",
       "      <th>city</th>\n",
       "      <th>country</th>\n",
       "      <th>population</th>\n",
       "      <th>latitude</th>\n",
       "      <th>longitude</th>\n",
       "    </tr>\n",
       "  </thead>\n",
       "  <tbody>\n",
       "  </tbody>\n",
       "</table>\n",
       "</div>"
      ],
      "text/plain": [
       "Empty DataFrame\n",
       "Columns: [city_id, city, country, population, latitude, longitude]\n",
       "Index: []"
      ]
     },
     "execution_count": 44,
     "metadata": {},
     "output_type": "execute_result"
    }
   ],
   "source": [
    "three_cities_df.loc[(three_cities_df['city']=='Dresden'),:]"
   ]
  },
  {
   "cell_type": "code",
   "execution_count": 45,
   "metadata": {},
   "outputs": [],
   "source": [
    "cities_id = three_cities_df['city_id']\n",
    "city = three_cities_df['city']"
   ]
  },
  {
   "cell_type": "code",
   "execution_count": null,
   "metadata": {},
   "outputs": [],
   "source": [
    "\n",
    "len(wheather_from_sql['city'])\n",
    "city_id=[]\n",
    "for i in range(len(wheather_from_sql)):\n",
    "    if wheather_from_sql['city'][i]=='Leipzig':\n",
    "        city_id.append('1')\n",
    "    elif wheather_from_sql['city'][i]=='Dresden':\n",
    "        city_id.append('2')\n",
    "    else:\n",
    "        city_id.append('3')\n",
    "        \n",
    "\n"
   ]
  },
  {
   "cell_type": "code",
   "execution_count": null,
   "metadata": {},
   "outputs": [],
   "source": [
    "wheather_from_sql['city_id'] = city_id"
   ]
  },
  {
   "cell_type": "code",
   "execution_count": null,
   "metadata": {},
   "outputs": [],
   "source": [
    "wheather_from_sql.drop(columns='city', inplace=True)"
   ]
  },
  {
   "cell_type": "code",
   "execution_count": 255,
   "metadata": {},
   "outputs": [
    {
     "data": {
      "text/plain": [
       "66"
      ]
     },
     "execution_count": 255,
     "metadata": {},
     "output_type": "execute_result"
    }
   ],
   "source": [
    "wheather_from_sql.to_sql('wheather',\n",
    "                  if_exists='append',\n",
    "                  con=connection_details,\n",
    "                  index=False)\n"
   ]
  },
  {
   "cell_type": "code",
   "execution_count": 156,
   "metadata": {},
   "outputs": [],
   "source": [
    "city = ['Leipzig', 'Dresden', 'Hamburg']\n",
    "icao_la = ['EDDP', 'EDDC', 'EDDH']\n",
    "\n",
    "icao_df = pd.DataFrame({'city': city, 'icao' : icao_la})"
   ]
  },
  {
   "cell_type": "code",
   "execution_count": 158,
   "metadata": {},
   "outputs": [
    {
     "data": {
      "text/html": [
       "<div>\n",
       "<style scoped>\n",
       "    .dataframe tbody tr th:only-of-type {\n",
       "        vertical-align: middle;\n",
       "    }\n",
       "\n",
       "    .dataframe tbody tr th {\n",
       "        vertical-align: top;\n",
       "    }\n",
       "\n",
       "    .dataframe thead th {\n",
       "        text-align: right;\n",
       "    }\n",
       "</style>\n",
       "<table border=\"1\" class=\"dataframe\">\n",
       "  <thead>\n",
       "    <tr style=\"text-align: right;\">\n",
       "      <th></th>\n",
       "      <th>city</th>\n",
       "      <th>icao</th>\n",
       "    </tr>\n",
       "  </thead>\n",
       "  <tbody>\n",
       "    <tr>\n",
       "      <th>0</th>\n",
       "      <td>Leipzig</td>\n",
       "      <td>EDDP</td>\n",
       "    </tr>\n",
       "    <tr>\n",
       "      <th>1</th>\n",
       "      <td>Dresden</td>\n",
       "      <td>EDDC</td>\n",
       "    </tr>\n",
       "    <tr>\n",
       "      <th>2</th>\n",
       "      <td>Hamburg</td>\n",
       "      <td>EDDH</td>\n",
       "    </tr>\n",
       "  </tbody>\n",
       "</table>\n",
       "</div>"
      ],
      "text/plain": [
       "      city  icao\n",
       "0  Leipzig  EDDP\n",
       "1  Dresden  EDDC\n",
       "2  Hamburg  EDDH"
      ]
     },
     "execution_count": 158,
     "metadata": {},
     "output_type": "execute_result"
    }
   ],
   "source": [
    "icao_df"
   ]
  },
  {
   "cell_type": "code",
   "execution_count": null,
   "metadata": {},
   "outputs": [],
   "source": [
    "icao_df.to_sql('icao',\n",
    "               if_exists='append',\n",
    "               index=False, \n",
    "               con=connection_details)"
   ]
  },
  {
   "cell_type": "code",
   "execution_count": 271,
   "metadata": {},
   "outputs": [
    {
     "data": {
      "text/plain": [
       "211"
      ]
     },
     "execution_count": 271,
     "metadata": {},
     "output_type": "execute_result"
    }
   ],
   "source": [
    "L_D_H.to_sql('arrivals',\n",
    "                con = connection_details, \n",
    "                index=False,\n",
    "                if_exists='append')"
   ]
  },
  {
   "cell_type": "code",
   "execution_count": 49,
   "metadata": {},
   "outputs": [],
   "source": [
    "icao_df = pd.read_sql('icao',\n",
    "                      con = connection_details\n",
    "                      )"
   ]
  },
  {
   "cell_type": "code",
   "execution_count": 24,
   "metadata": {},
   "outputs": [
    {
     "data": {
      "text/html": [
       "<div>\n",
       "<style scoped>\n",
       "    .dataframe tbody tr th:only-of-type {\n",
       "        vertical-align: middle;\n",
       "    }\n",
       "\n",
       "    .dataframe tbody tr th {\n",
       "        vertical-align: top;\n",
       "    }\n",
       "\n",
       "    .dataframe thead th {\n",
       "        text-align: right;\n",
       "    }\n",
       "</style>\n",
       "<table border=\"1\" class=\"dataframe\">\n",
       "  <thead>\n",
       "    <tr style=\"text-align: right;\">\n",
       "      <th></th>\n",
       "      <th>city_id</th>\n",
       "      <th>icao</th>\n",
       "    </tr>\n",
       "  </thead>\n",
       "  <tbody>\n",
       "    <tr>\n",
       "      <th>0</th>\n",
       "      <td>1</td>\n",
       "      <td>EDDP</td>\n",
       "    </tr>\n",
       "    <tr>\n",
       "      <th>1</th>\n",
       "      <td>2</td>\n",
       "      <td>EDDC</td>\n",
       "    </tr>\n",
       "    <tr>\n",
       "      <th>2</th>\n",
       "      <td>3</td>\n",
       "      <td>EDDH</td>\n",
       "    </tr>\n",
       "  </tbody>\n",
       "</table>\n",
       "</div>"
      ],
      "text/plain": [
       "   city_id  icao\n",
       "0        1  EDDP\n",
       "1        2  EDDC\n",
       "2        3  EDDH"
      ]
     },
     "execution_count": 24,
     "metadata": {},
     "output_type": "execute_result"
    }
   ],
   "source": [
    "icao_df"
   ]
  },
  {
   "cell_type": "code",
   "execution_count": 261,
   "metadata": {},
   "outputs": [],
   "source": [
    "citty = []\n",
    "for i in range(len(icao_df['city'])):\n",
    "    if icao_df['city'][i]=='Leipzig':\n",
    "        citty.append('1')\n",
    "    elif icao_df['city'][i]=='Dresden':\n",
    "        citty.append('2')\n",
    "    else:\n",
    "        citty.append('3')"
   ]
  },
  {
   "cell_type": "code",
   "execution_count": 264,
   "metadata": {},
   "outputs": [],
   "source": [
    "icao_df['city_id']=citty"
   ]
  },
  {
   "cell_type": "code",
   "execution_count": 269,
   "metadata": {},
   "outputs": [],
   "source": [
    "icao_df.drop(columns='city', inplace=True)"
   ]
  },
  {
   "cell_type": "code",
   "execution_count": 27,
   "metadata": {},
   "outputs": [
    {
     "data": {
      "text/plain": [
       "3"
      ]
     },
     "execution_count": 27,
     "metadata": {},
     "output_type": "execute_result"
    }
   ],
   "source": [
    "icao_df.to_sql('icao',\n",
    "               if_exists='append',\n",
    "               index=False, \n",
    "               con=con)"
   ]
  }
 ],
 "metadata": {
  "kernelspec": {
   "display_name": "base",
   "language": "python",
   "name": "python3"
  },
  "language_info": {
   "codemirror_mode": {
    "name": "ipython",
    "version": 3
   },
   "file_extension": ".py",
   "mimetype": "text/x-python",
   "name": "python",
   "nbconvert_exporter": "python",
   "pygments_lexer": "ipython3",
   "version": "3.9.13"
  },
  "orig_nbformat": 4,
  "vscode": {
   "interpreter": {
    "hash": "0b0ea5770b9322b392e2ed930685edcd8997a21d6dc8ffaaa22bc58b8ead3515"
   }
  }
 },
 "nbformat": 4,
 "nbformat_minor": 2
}
